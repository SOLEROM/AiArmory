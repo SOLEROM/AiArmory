{
 "cells": [
  {
   "cell_type": "markdown",
   "metadata": {},
   "source": [
    "# basic train demo1\n",
    "\n"
   ]
  },
  {
   "cell_type": "markdown",
   "metadata": {},
   "source": [
    "### general import"
   ]
  },
  {
   "cell_type": "code",
   "execution_count": 1,
   "metadata": {},
   "outputs": [],
   "source": [
    "import sys\n",
    "sys.path.append('../')\n",
    "from armoInclude import *\n",
    "from armoTrain import basicModel"
   ]
  },
  {
   "cell_type": "markdown",
   "metadata": {},
   "source": [
    "### get the data"
   ]
  },
  {
   "cell_type": "code",
   "execution_count": 2,
   "metadata": {},
   "outputs": [],
   "source": [
    "def GenHarmonicData( numSignals: int, numSamples: int, samplingFreq: float, maxFreq: float, σ: float ) -> Tuple[torch.Tensor, torch.Tensor]:\n",
    "    \n",
    "    π = np.pi #<! Constant Pi\n",
    "\n",
    "    vT   = torch.linspace(0, numSamples - 1, numSamples) / samplingFreq #<! Time samples\n",
    "    vF   = maxFreq * torch.rand(numSignals)                             #<! Frequency per signal\n",
    "    vPhi = 2 * π * torch.rand(numSignals)                               #<! Phase per signal\n",
    "    \n",
    "    # x_i(t) = sin(2π f_i t + φ_i) + n_i(t)\n",
    "    mX = torch.sin(2 * π * vF[:, None] @ vT[None, :] + vPhi[:, None])       ## @ is matrix multiplication in PyTorch\n",
    "    mX = mX + σ * torch.randn(mX.shape) #<! Add noise\n",
    "\n",
    "    return mX, vF\n"
   ]
  },
  {
   "cell_type": "code",
   "execution_count": 3,
   "metadata": {},
   "outputs": [],
   "source": [
    "numSignalsTrain = 1_000\n",
    "numSignalsVal   = 100\n",
    "numSignalsTest  = 100\n",
    "numSamples      =  500 #<! Samples in Signal\n",
    "samplingFreq    = 100.0 #<! [Hz]\n",
    "maxFreq         = 10.0  #<! [Hz]\n",
    "σ               = 0.1 #<! Noise Std\n",
    "\n",
    "mXTrain, vYTrain    = GenHarmonicData(numSignalsTrain, numSamples, samplingFreq, maxFreq, σ) #<! Train Data\n",
    "mXVal, vYVal        = GenHarmonicData(numSignalsVal, numSamples, samplingFreq, maxFreq, σ)   #<! Validation Data\n",
    "mXTest, vYTest      = GenHarmonicData(numSignalsTest, numSamples, samplingFreq, maxFreq, σ)  #<! Test Data\n",
    "\n"
   ]
  },
  {
   "cell_type": "markdown",
   "metadata": {},
   "source": [
    "### data preprocess"
   ]
  },
  {
   "cell_type": "code",
   "execution_count": null,
   "metadata": {},
   "outputs": [],
   "source": []
  },
  {
   "cell_type": "markdown",
   "metadata": {},
   "source": [
    "### Transforms"
   ]
  },
  {
   "cell_type": "code",
   "execution_count": 4,
   "metadata": {},
   "outputs": [],
   "source": [
    "dsTrain = torch.utils.data.TensorDataset(mXTrain.view(numSignalsTrain, 1, -1), vYTrain) \n",
    "dsVal   = torch.utils.data.TensorDataset(mXVal.view(numSignalsVal, 1, -1), vYVal)\n",
    "dsTest  = torch.utils.data.TensorDataset(mXTest.view(numSignalsTest, 1, -1), vYTest)"
   ]
  },
  {
   "cell_type": "markdown",
   "metadata": {},
   "source": [
    "### data loaders"
   ]
  },
  {
   "cell_type": "code",
   "execution_count": 5,
   "metadata": {},
   "outputs": [],
   "source": [
    "batchSize   = 256\n",
    "numWork     = 2 #<! Number of workers\n",
    "nEpochs     = 20\n",
    "\n",
    "dlTrain  = torch.utils.data.DataLoader(dsTrain, shuffle = True, batch_size = 1 * batchSize, num_workers = numWork, persistent_workers = True)\n",
    "dlVal   = torch.utils.data.DataLoader(dsVal, shuffle = False, batch_size = 2 * batchSize, num_workers = numWork, persistent_workers = True)\n",
    "dlTest   = torch.utils.data.DataLoader(dsTest, shuffle = False, batch_size = 2 * batchSize, num_workers = numWork, persistent_workers = True)"
   ]
  },
  {
   "cell_type": "code",
   "execution_count": 6,
   "metadata": {},
   "outputs": [
    {
     "name": "stdout",
     "output_type": "stream",
     "text": [
      "The batch features dimensions: torch.Size([256, 1, 500])\n",
      "The batch labels dimensions: torch.Size([256])\n"
     ]
    }
   ],
   "source": [
    "# Iterate on the Loader\n",
    "tX, vY = next(iter(dlTrain)) #<! PyTorch Tensors\n",
    "print(f'The batch features dimensions: {tX.shape}')\n",
    "print(f'The batch labels dimensions: {vY.shape}')"
   ]
  },
  {
   "cell_type": "markdown",
   "metadata": {},
   "source": [
    "### layers to model"
   ]
  },
  {
   "cell_type": "code",
   "execution_count": 7,
   "metadata": {},
   "outputs": [],
   "source": [
    "def myModel( ) -> nn.Module:\n",
    "    \n",
    "    oModel = nn.Sequential(\n",
    "        nn.Identity(),\n",
    "        \n",
    "        nn.Conv1d(in_channels = 1,   out_channels = 32,  kernel_size = 11), nn.MaxPool1d(kernel_size = 2), nn.ReLU(),\n",
    "        nn.Conv1d(in_channels = 32,  out_channels = 64,  kernel_size = 11), nn.MaxPool1d(kernel_size = 2), nn.ReLU(),\n",
    "        nn.Conv1d(in_channels = 64,  out_channels = 128, kernel_size = 11), nn.MaxPool1d(kernel_size = 2), nn.ReLU(),\n",
    "        nn.Conv1d(in_channels = 128, out_channels = 256, kernel_size = 11), nn.MaxPool1d(kernel_size = 2), nn.ReLU(),\n",
    "                \n",
    "        nn.AdaptiveAvgPool1d(output_size = 1),\n",
    "        nn.Flatten          (),\n",
    "        nn.Linear           (in_features = 256, out_features = 1),\n",
    "        nn.Flatten          (start_dim = 0),\n",
    "        )\n",
    "\n",
    "    return oModel"
   ]
  },
  {
   "cell_type": "code",
   "execution_count": 8,
   "metadata": {},
   "outputs": [],
   "source": [
    "oModel = myModel()"
   ]
  },
  {
   "cell_type": "markdown",
   "metadata": {},
   "source": [
    "### summary"
   ]
  },
  {
   "cell_type": "code",
   "execution_count": 9,
   "metadata": {},
   "outputs": [
    {
     "data": {
      "text/plain": [
       "==========================================================================================\n",
       "Layer (type:depth-idx)                   Output Shape              Param #\n",
       "==========================================================================================\n",
       "Sequential                               [256]                     --\n",
       "├─Identity: 1-1                          [256, 1, 500]             --\n",
       "├─Conv1d: 1-2                            [256, 32, 490]            384\n",
       "├─MaxPool1d: 1-3                         [256, 32, 245]            --\n",
       "├─ReLU: 1-4                              [256, 32, 245]            --\n",
       "├─Conv1d: 1-5                            [256, 64, 235]            22,592\n",
       "├─MaxPool1d: 1-6                         [256, 64, 117]            --\n",
       "├─ReLU: 1-7                              [256, 64, 117]            --\n",
       "├─Conv1d: 1-8                            [256, 128, 107]           90,240\n",
       "├─MaxPool1d: 1-9                         [256, 128, 53]            --\n",
       "├─ReLU: 1-10                             [256, 128, 53]            --\n",
       "├─Conv1d: 1-11                           [256, 256, 43]            360,704\n",
       "├─MaxPool1d: 1-12                        [256, 256, 21]            --\n",
       "├─ReLU: 1-13                             [256, 256, 21]            --\n",
       "├─AdaptiveAvgPool1d: 1-14                [256, 256, 1]             --\n",
       "├─Flatten: 1-15                          [256, 256]                --\n",
       "├─Linear: 1-16                           [256, 1]                  257\n",
       "├─Flatten: 1-17                          [256]                     --\n",
       "==========================================================================================\n",
       "Total params: 474,177\n",
       "Trainable params: 474,177\n",
       "Non-trainable params: 0\n",
       "Total mult-adds (Units.GIGABYTES): 7.85\n",
       "==========================================================================================\n",
       "Input size (MB): 0.51\n",
       "Forward/backward pass size (MB): 113.51\n",
       "Params size (MB): 1.90\n",
       "Estimated Total Size (MB): 115.92\n",
       "=========================================================================================="
      ]
     },
     "execution_count": 9,
     "metadata": {},
     "output_type": "execute_result"
    }
   ],
   "source": [
    "torchinfo.summary(oModel,input_size=tX.shape ,  device = 'cpu')"
   ]
  },
  {
   "cell_type": "markdown",
   "metadata": {},
   "source": [
    "### target HW"
   ]
  },
  {
   "cell_type": "code",
   "execution_count": 10,
   "metadata": {},
   "outputs": [],
   "source": [
    "runDevice = torch.device('cuda:0' if torch.cuda.is_available() else 'cpu') #<! The 1st CUDA device\n",
    "oModel = oModel.to(runDevice)"
   ]
  },
  {
   "cell_type": "markdown",
   "metadata": {},
   "source": [
    "### loss"
   ]
  },
  {
   "cell_type": "code",
   "execution_count": 11,
   "metadata": {},
   "outputs": [],
   "source": [
    "hL = nn.MSELoss()\n",
    "hL = hL.to(runDevice)\n"
   ]
  },
  {
   "cell_type": "markdown",
   "metadata": {},
   "source": [
    "### score"
   ]
  },
  {
   "cell_type": "code",
   "execution_count": 12,
   "metadata": {},
   "outputs": [],
   "source": [
    "hS = R2Score(num_outputs = 1)\n",
    "hS = hS.to(runDevice)\n"
   ]
  },
  {
   "cell_type": "markdown",
   "metadata": {},
   "source": [
    "### optimizer"
   ]
  },
  {
   "cell_type": "code",
   "execution_count": 13,
   "metadata": {},
   "outputs": [],
   "source": [
    "oOpt = torch.optim.AdamW(oModel.parameters(), lr = 1e-4, betas = (0.9, 0.99), weight_decay = 1e-5)"
   ]
  },
  {
   "cell_type": "markdown",
   "metadata": {},
   "source": [
    "### scheduler"
   ]
  },
  {
   "cell_type": "code",
   "execution_count": 14,
   "metadata": {},
   "outputs": [],
   "source": [
    "oSch = torch.optim.lr_scheduler.OneCycleLR(oOpt, max_lr = 5e-4, total_steps = nEpochs)\n"
   ]
  },
  {
   "cell_type": "markdown",
   "metadata": {},
   "source": [
    "### train"
   ]
  },
  {
   "cell_type": "code",
   "execution_count": 15,
   "metadata": {},
   "outputs": [
    {
     "name": "stdout",
     "output_type": "stream",
     "text": [
      "Epoch    1 / 10 | Train Loss: 33.006 | Val Loss: 31.534 | Train Score: -3.037 | Val Score: -3.072 | Epoch Time:  1.73 |\n",
      "Epoch    2 / 10 | Train Loss: 32.273 | Val Loss: 30.256 | Train Score: -2.948 | Val Score: -2.907 | Epoch Time:  1.58 |\n",
      "Epoch    3 / 10 | Train Loss: 30.070 | Val Loss: 25.811 | Train Score: -2.701 | Val Score: -2.333 | Epoch Time:  1.30 |\n",
      "Epoch    4 / 10 | Train Loss: 21.652 | Val Loss:  9.098 | Train Score: -1.668 | Val Score: -0.175 | Epoch Time:  1.40 |\n",
      "Epoch    5 / 10 | Train Loss:  8.434 | Val Loss:  7.907 | Train Score: -0.034 | Val Score: -0.021 | Epoch Time:  1.19 |\n",
      "Epoch    6 / 10 | Train Loss:  5.045 | Val Loss:  4.861 | Train Score:  0.378 | Val Score:  0.372 | Epoch Time:  1.09 |\n",
      "Epoch    7 / 10 | Train Loss:  3.944 | Val Loss:  1.363 | Train Score:  0.517 | Val Score:  0.824 | Epoch Time:  1.42 |\n",
      "Epoch    8 / 10 | Train Loss:  1.733 | Val Loss:  1.021 | Train Score:  0.788 | Val Score:  0.868 | Epoch Time:  1.26 |\n",
      "Epoch    9 / 10 | Train Loss:  0.802 | Val Loss:  0.852 | Train Score:  0.903 | Val Score:  0.890 | Epoch Time:  1.48 |\n",
      "Epoch   10 / 10 | Train Loss:  0.659 | Val Loss:  0.339 | Train Score:  0.918 | Val Score:  0.956 | Epoch Time:  1.39 |\n"
     ]
    }
   ],
   "source": [
    "nEpochs = 10\n",
    "# myTrain = basicModel(CheckpointFile='BestModel.pt')\n",
    "myTrain = basicModel()\n",
    "trained = myTrain.TrainModel(oModel, dlTrain, dlVal, oOpt, nEpochs, hL, hS, oSch = oSch)"
   ]
  },
  {
   "cell_type": "markdown",
   "metadata": {},
   "source": [
    "### train graph"
   ]
  },
  {
   "cell_type": "code",
   "execution_count": 16,
   "metadata": {},
   "outputs": [
    {
     "data": {
      "image/png": "[encoded data removed]",
      "text/plain": [
       "<Figure size 1200x500 with 3 Axes>"
      ]
     },
     "metadata": {},
     "output_type": "display_data"
    }
   ],
   "source": [
    "myTrain.plotTrainResults()"
   ]
  },
  {
   "cell_type": "markdown",
   "metadata": {},
   "source": [
    "## Test after train"
   ]
  },
  {
   "cell_type": "code",
   "execution_count": 17,
   "metadata": {},
   "outputs": [
    {
     "name": "stdout",
     "output_type": "stream",
     "text": [
      "Test Loss: 0.402001291513443\n"
     ]
    },
    {
     "data": {
      "text/plain": [
       "0.402001291513443"
      ]
     },
     "execution_count": 17,
     "metadata": {},
     "output_type": "execute_result"
    }
   ],
   "source": [
    "myTrain.evaluate_test_data(testData = dlTest ,loss_fn=hL)"
   ]
  },
  {
   "cell_type": "markdown",
   "metadata": {},
   "source": [
    "## inference"
   ]
  },
  {
   "cell_type": "code",
   "execution_count": 18,
   "metadata": {},
   "outputs": [
    {
     "name": "stdout",
     "output_type": "stream",
     "text": [
      "test_x_data[1] = tensor([[ 1.4371e-01,  3.5111e-01,  1.1869e-01, -3.1413e-01, -3.1478e-01,\n",
      "         -4.3045e-01, -7.8414e-01, -6.8507e-01, -8.9047e-01, -1.1208e+00,\n",
      "         -8.4961e-01, -9.0280e-01, -8.3635e-01, -8.3353e-01, -6.2096e-01,\n",
      "         -7.0435e-01, -4.3796e-01, -1.9775e-01, -2.7062e-01,  1.2534e-01,\n",
      "          2.5696e-01,  4.4664e-01,  5.2078e-01,  5.3343e-01,  9.9656e-01,\n",
      "          9.3184e-01,  9.6501e-01,  8.9791e-01,  9.9010e-01,  1.0338e+00,\n",
      "          8.5075e-01,  5.9509e-01,  5.5645e-01,  4.2926e-01,  1.2612e-01,\n",
      "          1.7579e-01, -2.0537e-01, -1.9620e-01, -5.7402e-01, -7.1352e-01,\n",
      "         -7.2135e-01, -8.8277e-01, -8.5816e-01, -1.0018e+00, -1.0573e+00,\n",
      "         -9.5651e-01, -1.0592e+00, -7.6258e-01, -6.3645e-01, -6.1010e-01,\n",
      "         -3.2431e-01, -3.7336e-01,  7.0165e-04,  1.7302e-01,  2.7512e-01,\n",
      "          4.5022e-01,  6.8937e-01,  9.2847e-01,  8.0008e-01,  1.0143e+00,\n",
      "          8.9333e-01,  1.2493e+00,  7.9179e-01,  8.2739e-01,  7.8015e-01,\n",
      "          6.0455e-01,  5.3536e-01,  3.9294e-01,  6.8676e-02,  1.2404e-01,\n",
      "         -2.1461e-01, -3.4984e-01, -4.0019e-01, -8.2862e-01, -7.7941e-01,\n",
      "         -8.8146e-01, -9.4837e-01, -1.0025e+00, -9.8554e-01, -1.1798e+00,\n",
      "         -8.4925e-01, -9.6890e-01, -5.8677e-01, -6.6980e-01, -3.7178e-01,\n",
      "         -1.8392e-01, -7.7190e-02,  2.7578e-01,  3.1112e-01,  4.5754e-01,\n",
      "          7.5882e-01,  9.1534e-01,  9.9664e-01,  8.8889e-01,  1.1089e+00,\n",
      "          9.4828e-01,  1.0038e+00,  1.0225e+00,  7.2795e-01,  6.6255e-01,\n",
      "          4.4844e-01,  3.4936e-01,  2.4282e-01, -1.4870e-01, -5.6060e-04,\n",
      "         -3.9823e-01, -6.5019e-01, -7.0017e-01, -1.0138e+00, -9.1426e-01,\n",
      "         -9.7066e-01, -1.0627e+00, -1.0265e+00, -1.0820e+00, -8.0411e-01,\n",
      "         -6.4409e-01, -5.2477e-01, -3.7288e-01, -3.2472e-01,  2.5946e-02,\n",
      "          1.8677e-01,  3.1085e-01,  4.6258e-01,  7.1981e-01,  7.8496e-01,\n",
      "          9.0555e-01,  1.2906e+00,  1.0960e+00,  9.4938e-01,  9.2733e-01,\n",
      "          1.0540e+00,  9.0056e-01,  7.2719e-01,  5.3318e-01,  5.2998e-01,\n",
      "          1.6760e-01,  1.3138e-01, -2.3476e-01, -3.6592e-01, -5.2640e-01,\n",
      "         -6.3263e-01, -7.5954e-01, -9.5870e-01, -9.5737e-01, -8.0546e-01,\n",
      "         -9.6847e-01, -9.4782e-01, -9.8444e-01, -8.4559e-01, -5.9501e-01,\n",
      "         -3.5934e-01, -4.4795e-01, -1.8796e-01,  4.0330e-02,  1.2593e-01,\n",
      "          4.8388e-01,  3.9705e-01,  5.7368e-01,  9.1117e-01,  1.0589e+00,\n",
      "          1.0067e+00,  1.1074e+00,  9.5346e-01,  9.3300e-01,  7.9350e-01,\n",
      "          7.7171e-01,  5.8139e-01,  4.7848e-01,  4.2139e-01,  7.0447e-02,\n",
      "          8.5957e-02, -1.1745e-01, -5.9627e-01, -5.4232e-01, -8.0501e-01,\n",
      "         -6.6035e-01, -1.0701e+00, -1.0212e+00, -8.6849e-01, -1.0534e+00,\n",
      "         -1.1067e+00, -9.4151e-01, -8.2293e-01, -6.5287e-01, -6.4754e-01,\n",
      "         -3.0370e-01, -1.0006e-01, -1.2175e-01,  2.7855e-01,  4.6155e-01,\n",
      "          5.3637e-01,  7.7536e-01,  9.2713e-01,  7.5026e-01,  9.6679e-01,\n",
      "          1.2201e+00,  1.0218e+00,  8.6981e-01,  7.2941e-01,  7.7861e-01,\n",
      "          6.7797e-01,  4.4639e-01,  2.4087e-01, -1.6898e-01, -1.7463e-01,\n",
      "         -3.4162e-01, -3.2772e-01, -5.5565e-01, -9.7000e-01, -8.5682e-01,\n",
      "         -1.0886e+00, -8.8071e-01, -1.0534e+00, -7.4428e-01, -8.8689e-01,\n",
      "         -7.6783e-01, -7.7646e-01, -4.6416e-01, -3.6607e-01, -6.4845e-02,\n",
      "         -4.9593e-02, -6.4196e-02,  3.7647e-01,  5.1079e-01,  7.8069e-01,\n",
      "          1.0138e+00,  9.0425e-01,  7.7302e-01,  7.9037e-01,  9.8052e-01,\n",
      "          8.0413e-01,  9.3571e-01,  7.4989e-01,  6.8491e-01,  4.9750e-01,\n",
      "          1.8274e-01,  2.8353e-01, -4.8273e-02, -1.1799e-01, -3.6179e-01,\n",
      "         -4.7376e-01, -7.3263e-01, -8.1372e-01, -9.6242e-01, -1.2495e+00,\n",
      "         -9.6252e-01, -1.1680e+00, -7.9757e-01, -7.7692e-01, -9.3145e-01,\n",
      "         -6.4388e-01, -5.4992e-01, -3.1357e-01, -1.4589e-01,  3.5412e-02,\n",
      "          2.3572e-01,  2.8884e-01,  5.2973e-01,  6.6912e-01,  7.5088e-01,\n",
      "          9.4085e-01,  1.0014e+00,  1.0998e+00,  1.0530e+00,  9.3395e-01,\n",
      "          1.0061e+00,  5.5777e-01,  5.0729e-01,  4.2437e-01,  2.3907e-01,\n",
      "          2.1412e-01, -2.5210e-01, -2.5482e-01, -5.3511e-01, -6.3453e-01,\n",
      "         -8.2617e-01, -7.9450e-01, -9.8589e-01, -9.1165e-01, -1.1134e+00,\n",
      "         -1.0123e+00, -8.7963e-01, -8.6658e-01, -8.4011e-01, -6.0419e-01,\n",
      "         -5.4564e-01, -1.0015e-01,  7.8991e-02,  1.4044e-01,  2.0141e-01,\n",
      "          4.7668e-01,  7.3724e-01,  7.9559e-01,  7.1003e-01,  9.2011e-01,\n",
      "          8.7497e-01,  9.7260e-01,  9.7530e-01,  1.0017e+00,  1.0001e+00,\n",
      "          7.8411e-01,  4.0010e-01,  3.2921e-01,  1.7354e-01,  1.3575e-01,\n",
      "          1.7191e-02, -1.0528e-01, -5.3316e-01, -6.6178e-01, -8.7756e-01,\n",
      "         -7.9726e-01, -9.8340e-01, -8.1583e-01, -8.1452e-01, -9.9399e-01,\n",
      "         -9.1552e-01, -8.1254e-01, -7.0087e-01, -4.0077e-01, -3.0841e-01,\n",
      "         -7.1500e-02,  1.1397e-01,  2.6625e-01,  3.9721e-01,  6.6499e-01,\n",
      "          7.6252e-01,  8.2896e-01,  1.0614e+00,  9.6908e-01,  1.1441e+00,\n",
      "          1.0232e+00,  1.2143e+00,  7.5624e-01,  7.4081e-01,  5.5361e-01,\n",
      "          3.9074e-01,  1.9073e-01,  2.5135e-01, -6.7627e-02, -2.0049e-01,\n",
      "         -2.9643e-01, -7.1449e-01, -7.5618e-01, -8.1160e-01, -1.0266e+00,\n",
      "         -9.4614e-01, -1.0653e+00, -1.0427e+00, -8.4367e-01, -7.5082e-01,\n",
      "         -7.1876e-01, -6.5086e-01, -3.8346e-01, -2.5848e-01, -5.9326e-02,\n",
      "          1.7349e-01,  2.0133e-01,  4.8947e-01,  6.0378e-01,  6.9368e-01,\n",
      "          8.8306e-01,  7.1736e-01,  1.1483e+00,  9.1985e-01,  9.9296e-01,\n",
      "          1.0580e+00,  8.3259e-01,  8.6325e-01,  5.7598e-01,  3.9158e-01,\n",
      "          3.6181e-01, -1.1180e-01, -2.0568e-01, -3.6225e-01, -5.2999e-01,\n",
      "         -7.1887e-01, -7.4331e-01, -9.1892e-01, -1.0059e+00, -9.0169e-01,\n",
      "         -7.2441e-01, -9.6392e-01, -9.0468e-01, -7.7761e-01, -7.5459e-01,\n",
      "         -6.4821e-01, -2.9089e-01, -1.7006e-01,  2.9200e-04,  3.1875e-01,\n",
      "          3.2684e-01,  5.8130e-01,  6.3839e-01,  7.4059e-01,  9.8532e-01,\n",
      "          9.7999e-01,  1.1984e+00,  1.0282e+00,  1.0860e+00,  8.6058e-01,\n",
      "          7.2972e-01,  6.5208e-01,  5.7035e-01,  2.8435e-01,  3.1977e-01,\n",
      "          3.1419e-02, -3.4324e-01, -4.8452e-01, -5.6114e-01, -7.6146e-01,\n",
      "         -9.1391e-01, -9.3859e-01, -1.0079e+00, -1.0733e+00, -1.0900e+00,\n",
      "         -8.6455e-01, -7.1479e-01, -8.4825e-01, -6.4561e-01, -3.6583e-01,\n",
      "         -2.8102e-01,  2.9518e-03,  1.9544e-01,  2.7048e-01,  3.2028e-01,\n",
      "          7.0312e-01,  8.6468e-01,  8.1482e-01,  1.1486e+00,  1.0049e+00,\n",
      "          1.0823e+00,  7.7735e-01,  1.1019e+00,  7.4605e-01,  8.0841e-01,\n",
      "          4.9242e-01,  4.1435e-01,  2.4933e-01,  1.3165e-01, -3.1687e-01,\n",
      "         -3.6588e-01, -5.4225e-01, -8.4723e-01, -7.4293e-01, -8.6220e-01,\n",
      "         -8.8744e-01, -1.0358e+00, -9.1515e-01, -1.0143e+00, -1.0544e+00,\n",
      "         -7.1012e-01, -3.8868e-01, -5.4233e-01, -4.7565e-01, -2.1734e-01,\n",
      "          4.6749e-02,  7.9772e-02,  5.0021e-01,  6.7678e-01,  6.7166e-01,\n",
      "          7.9832e-01,  8.6837e-01,  9.2289e-01,  9.9071e-01,  1.0242e+00,\n",
      "          7.1996e-01,  7.2115e-01,  7.0908e-01,  6.4150e-01,  3.9341e-01,\n",
      "          1.9292e-01,  2.2298e-01, -7.2840e-02, -9.0508e-02, -5.1922e-01,\n",
      "         -7.1173e-01, -5.8003e-01, -9.6125e-01, -1.0430e+00, -1.1132e+00,\n",
      "         -1.0819e+00, -1.1554e+00, -1.0494e+00, -8.9256e-01, -8.6604e-01,\n",
      "         -7.7607e-01, -3.8450e-01, -3.2800e-01, -1.4437e-01,  5.3201e-02,\n",
      "          2.7818e-01,  3.4287e-01,  5.0717e-01,  8.3376e-01,  9.8340e-01,\n",
      "          1.0708e+00,  1.0135e+00,  9.3014e-01,  8.4136e-01,  8.9352e-01]])\n",
      "eval_result[1] = 2.7596631050109863\n"
     ]
    }
   ],
   "source": [
    "test_x_data = mXTest.view(numSignalsTest, 1, -1)\n",
    "eval_result = myTrain.inference(test_x_data)\n",
    "print(f\"test_x_data[1] = {test_x_data[1] }\")      \n",
    "print(f\"eval_result[1] = {eval_result[1] }\")      "
   ]
  }
 ],
 "metadata": {
  "kernelspec": {
   "display_name": "Python 3",
   "language": "python",
   "name": "python3"
  },
  "language_info": {
   "codemirror_mode": {
    "name": "ipython",
    "version": 3
   },
   "file_extension": ".py",
   "mimetype": "text/x-python",
   "name": "python",
   "nbconvert_exporter": "python",
   "pygments_lexer": "ipython3",
   "version": "3.11.8"
  }
 },
 "nbformat": 4,
 "nbformat_minor": 2
}
