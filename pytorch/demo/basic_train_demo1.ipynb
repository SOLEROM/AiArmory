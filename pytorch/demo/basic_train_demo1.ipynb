{
 "cells": [
  {
   "cell_type": "markdown",
   "metadata": {},
   "source": [
    "# basic train demo1\n",
    "\n"
   ]
  },
  {
   "cell_type": "markdown",
   "metadata": {},
   "source": [
    "### general import"
   ]
  },
  {
   "cell_type": "code",
   "execution_count": 1,
   "metadata": {},
   "outputs": [],
   "source": [
    "import sys\n",
    "sys.path.append('../')\n",
    "from armoInclude import *\n",
    "from armoTrain import basicModel"
   ]
  },
  {
   "cell_type": "markdown",
   "metadata": {},
   "source": [
    "### get the data"
   ]
  },
  {
   "cell_type": "code",
   "execution_count": 2,
   "metadata": {},
   "outputs": [],
   "source": [
    "def GenHarmonicData( numSignals: int, numSamples: int, samplingFreq: float, maxFreq: float, σ: float ) -> Tuple[torch.Tensor, torch.Tensor]:\n",
    "    \n",
    "    π = np.pi #<! Constant Pi\n",
    "\n",
    "    vT   = torch.linspace(0, numSamples - 1, numSamples) / samplingFreq #<! Time samples\n",
    "    vF   = maxFreq * torch.rand(numSignals)                             #<! Frequency per signal\n",
    "    vPhi = 2 * π * torch.rand(numSignals)                               #<! Phase per signal\n",
    "    \n",
    "    # x_i(t) = sin(2π f_i t + φ_i) + n_i(t)\n",
    "    mX = torch.sin(2 * π * vF[:, None] @ vT[None, :] + vPhi[:, None])       ## @ is matrix multiplication in PyTorch\n",
    "    mX = mX + σ * torch.randn(mX.shape) #<! Add noise\n",
    "\n",
    "    return mX, vF\n"
   ]
  },
  {
   "cell_type": "code",
   "execution_count": 3,
   "metadata": {},
   "outputs": [],
   "source": [
    "numSignalsTrain = 1_000\n",
    "numSignalsVal   = 100\n",
    "numSignalsTest  = 100\n",
    "numSamples      =  500 #<! Samples in Signal\n",
    "samplingFreq    = 100.0 #<! [Hz]\n",
    "maxFreq         = 10.0  #<! [Hz]\n",
    "σ               = 0.1 #<! Noise Std\n",
    "\n",
    "mXTrain, vYTrain    = GenHarmonicData(numSignalsTrain, numSamples, samplingFreq, maxFreq, σ) #<! Train Data\n",
    "mXVal, vYVal        = GenHarmonicData(numSignalsVal, numSamples, samplingFreq, maxFreq, σ)   #<! Validation Data\n",
    "mXTest, vYTest      = GenHarmonicData(numSignalsTest, numSamples, samplingFreq, maxFreq, σ)  #<! Test Data\n",
    "\n"
   ]
  },
  {
   "cell_type": "markdown",
   "metadata": {},
   "source": [
    "### data preprocess"
   ]
  },
  {
   "cell_type": "code",
   "execution_count": 4,
   "metadata": {},
   "outputs": [],
   "source": [
    "#none "
   ]
  },
  {
   "cell_type": "markdown",
   "metadata": {},
   "source": [
    "### Transforms"
   ]
  },
  {
   "cell_type": "code",
   "execution_count": 5,
   "metadata": {},
   "outputs": [],
   "source": [
    "dsTrain = torch.utils.data.TensorDataset(mXTrain.view(numSignalsTrain, 1, -1), vYTrain) \n",
    "dsVal   = torch.utils.data.TensorDataset(mXVal.view(numSignalsVal, 1, -1), vYVal)\n",
    "dsTest  = torch.utils.data.TensorDataset(mXTest.view(numSignalsTest, 1, -1), vYTest)"
   ]
  },
  {
   "cell_type": "markdown",
   "metadata": {},
   "source": [
    "### data loaders"
   ]
  },
  {
   "cell_type": "code",
   "execution_count": 6,
   "metadata": {},
   "outputs": [],
   "source": [
    "batchSize   = 256\n",
    "numWork     = 2 #<! Number of workers\n",
    "nEpochs     = 20\n",
    "\n",
    "dlTrain  = torch.utils.data.DataLoader(dsTrain, shuffle = True, batch_size = 1 * batchSize, num_workers = numWork, persistent_workers = True)\n",
    "dlVal   = torch.utils.data.DataLoader(dsVal, shuffle = False, batch_size = 2 * batchSize, num_workers = numWork, persistent_workers = True)\n",
    "dlTest   = torch.utils.data.DataLoader(dsTest, shuffle = False, batch_size = 2 * batchSize, num_workers = numWork, persistent_workers = True)"
   ]
  },
  {
   "cell_type": "markdown",
   "metadata": {},
   "source": [
    "### layers to model"
   ]
  },
  {
   "cell_type": "code",
   "execution_count": 7,
   "metadata": {},
   "outputs": [],
   "source": [
    "def myModel( ) -> nn.Module:\n",
    "    \n",
    "    oModel = nn.Sequential(\n",
    "        nn.Identity(),\n",
    "        \n",
    "        nn.Conv1d(in_channels = 1,   out_channels = 32,  kernel_size = 11), nn.MaxPool1d(kernel_size = 2), nn.ReLU(),\n",
    "        nn.Conv1d(in_channels = 32,  out_channels = 64,  kernel_size = 11), nn.MaxPool1d(kernel_size = 2), nn.ReLU(),\n",
    "        nn.Conv1d(in_channels = 64,  out_channels = 128, kernel_size = 11), nn.MaxPool1d(kernel_size = 2), nn.ReLU(),\n",
    "        nn.Conv1d(in_channels = 128, out_channels = 256, kernel_size = 11), nn.MaxPool1d(kernel_size = 2), nn.ReLU(),\n",
    "                \n",
    "        nn.AdaptiveAvgPool1d(output_size = 1),\n",
    "        nn.Flatten          (),\n",
    "        nn.Linear           (in_features = 256, out_features = 1),\n",
    "        nn.Flatten          (start_dim = 0),\n",
    "        )\n",
    "\n",
    "    return oModel"
   ]
  },
  {
   "cell_type": "code",
   "execution_count": 8,
   "metadata": {},
   "outputs": [],
   "source": [
    "oModel = myModel()\n",
    "myTrain = basicModel(model=oModel)"
   ]
  },
  {
   "cell_type": "markdown",
   "metadata": {},
   "source": [
    "### target HW"
   ]
  },
  {
   "cell_type": "code",
   "execution_count": 9,
   "metadata": {},
   "outputs": [],
   "source": [
    "runDevice = torch.device('cuda:0' if torch.cuda.is_available() else 'cpu') #<! The 1st CUDA device\n",
    "oModel = oModel.to(runDevice)"
   ]
  },
  {
   "cell_type": "markdown",
   "metadata": {},
   "source": [
    "### loss"
   ]
  },
  {
   "cell_type": "code",
   "execution_count": 10,
   "metadata": {},
   "outputs": [],
   "source": [
    "hL = nn.MSELoss()\n",
    "hL = hL.to(runDevice)\n"
   ]
  },
  {
   "cell_type": "markdown",
   "metadata": {},
   "source": [
    "### score"
   ]
  },
  {
   "cell_type": "code",
   "execution_count": 11,
   "metadata": {},
   "outputs": [],
   "source": [
    "hS = R2Score(num_outputs = 1)\n",
    "hS = hS.to(runDevice)\n"
   ]
  },
  {
   "cell_type": "markdown",
   "metadata": {},
   "source": [
    "### optimizer"
   ]
  },
  {
   "cell_type": "code",
   "execution_count": 12,
   "metadata": {},
   "outputs": [],
   "source": [
    "oOpt = torch.optim.AdamW(oModel.parameters(), lr = 1e-4, betas = (0.9, 0.99), weight_decay = 1e-5)"
   ]
  },
  {
   "cell_type": "markdown",
   "metadata": {},
   "source": [
    "### scheduler"
   ]
  },
  {
   "cell_type": "code",
   "execution_count": 13,
   "metadata": {},
   "outputs": [],
   "source": [
    "oSch = torch.optim.lr_scheduler.OneCycleLR(oOpt, max_lr = 5e-4, total_steps = nEpochs)\n"
   ]
  },
  {
   "cell_type": "markdown",
   "metadata": {},
   "source": [
    "### summary"
   ]
  },
  {
   "cell_type": "code",
   "execution_count": 14,
   "metadata": {},
   "outputs": [
    {
     "data": {
      "text/plain": [
       "(==========================================================================================\n",
       " Layer (type:depth-idx)                   Output Shape              Param #\n",
       " ==========================================================================================\n",
       " Sequential                               [256]                     --\n",
       " ├─Identity: 1-1                          [256, 1, 500]             --\n",
       " ├─Conv1d: 1-2                            [256, 32, 490]            384\n",
       " ├─MaxPool1d: 1-3                         [256, 32, 245]            --\n",
       " ├─ReLU: 1-4                              [256, 32, 245]            --\n",
       " ├─Conv1d: 1-5                            [256, 64, 235]            22,592\n",
       " ├─MaxPool1d: 1-6                         [256, 64, 117]            --\n",
       " ├─ReLU: 1-7                              [256, 64, 117]            --\n",
       " ├─Conv1d: 1-8                            [256, 128, 107]           90,240\n",
       " ├─MaxPool1d: 1-9                         [256, 128, 53]            --\n",
       " ├─ReLU: 1-10                             [256, 128, 53]            --\n",
       " ├─Conv1d: 1-11                           [256, 256, 43]            360,704\n",
       " ├─MaxPool1d: 1-12                        [256, 256, 21]            --\n",
       " ├─ReLU: 1-13                             [256, 256, 21]            --\n",
       " ├─AdaptiveAvgPool1d: 1-14                [256, 256, 1]             --\n",
       " ├─Flatten: 1-15                          [256, 256]                --\n",
       " ├─Linear: 1-16                           [256, 1]                  257\n",
       " ├─Flatten: 1-17                          [256]                     --\n",
       " ==========================================================================================\n",
       " Total params: 474,177\n",
       " Trainable params: 474,177\n",
       " Non-trainable params: 0\n",
       " Total mult-adds (Units.GIGABYTES): 7.85\n",
       " ==========================================================================================\n",
       " Input size (MB): 0.51\n",
       " Forward/backward pass size (MB): 113.51\n",
       " Params size (MB): 1.90\n",
       " Estimated Total Size (MB): 115.92\n",
       " ==========================================================================================,\n",
       " tensor([[[-1.1809e+00, -8.3923e-01, -7.7992e-01,  ...,  4.9367e-01,\n",
       "            5.7922e-01,  8.3110e-01]],\n",
       " \n",
       "         [[ 4.0345e-01,  9.1630e-01,  8.8993e-01,  ...,  7.4820e-02,\n",
       "           -3.4734e-01, -7.3560e-01]],\n",
       " \n",
       "         [[ 6.7431e-01,  6.0779e-01,  1.0101e+00,  ..., -8.3939e-01,\n",
       "           -1.0908e+00, -1.0719e+00]],\n",
       " \n",
       "         ...,\n",
       " \n",
       "         [[-1.0020e+00, -1.0812e+00, -9.2649e-01,  ..., -7.3263e-01,\n",
       "           -7.9095e-01, -8.5917e-01]],\n",
       " \n",
       "         [[ 2.6320e-01,  3.9335e-01,  2.1607e-02,  ..., -7.9006e-01,\n",
       "           -1.0146e+00, -9.4476e-01]],\n",
       " \n",
       "         [[ 6.8087e-01,  6.7311e-01,  7.0024e-01,  ..., -2.6272e-02,\n",
       "           -1.1136e-03, -4.4173e-02]]]),\n",
       " tensor([5.2863, 9.3355, 2.3289, 5.7952, 9.1663, 1.5901, 4.8808, 8.0738, 4.0625,\n",
       "         9.5257, 2.3081, 6.0645, 7.2208, 4.6438, 0.9199, 4.0607, 1.7586, 4.9422,\n",
       "         7.2023, 1.7467, 4.9008, 1.1153, 0.6819, 8.3045, 7.8078, 0.5139, 0.2402,\n",
       "         1.0278, 3.2221, 5.8016, 8.6041, 9.6737, 9.2598, 1.1735, 8.2540, 3.3344,\n",
       "         3.8072, 2.1547, 6.3203, 8.4251, 4.5494, 6.7107, 6.3130, 2.3656, 7.2612,\n",
       "         9.8984, 3.8104, 8.5394, 1.4585, 5.8890, 2.0611, 2.0549, 2.1622, 2.0334,\n",
       "         8.6346, 6.7108, 3.8307, 7.5995, 7.7208, 4.6483, 8.3446, 9.2070, 0.5448,\n",
       "         2.1443, 5.6750, 0.7763, 7.7405, 6.1812, 5.8738, 4.4179, 8.6574, 5.0079,\n",
       "         9.1877, 4.4905, 8.5620, 6.0953, 7.8813, 3.0489, 3.6202, 6.5773, 9.7033,\n",
       "         9.7558, 7.5788, 8.7147, 1.8996, 4.9731, 6.3359, 1.6097, 0.4373, 0.0773,\n",
       "         8.8641, 7.4705, 3.6587, 4.5850, 8.4173, 9.0368, 3.8268, 4.1639, 7.5187,\n",
       "         5.4253, 8.3003, 8.0986, 6.0488, 3.3674, 2.7573, 7.9235, 1.8086, 2.2231,\n",
       "         9.6713, 0.4439, 3.2767, 9.3022, 3.1178, 7.1540, 0.9239, 6.3247, 1.4374,\n",
       "         7.8283, 0.6123, 8.7953, 2.5101, 2.3016, 2.6269, 0.5087, 7.9584, 1.7519,\n",
       "         3.0951, 5.8962, 2.6740, 7.2010, 4.4400, 8.7321, 9.3755, 2.5948, 3.7715,\n",
       "         7.3235, 1.9882, 3.7270, 6.6066, 6.6704, 6.0584, 2.4510, 8.9541, 1.9872,\n",
       "         6.3101, 1.6547, 1.9083, 6.1670, 4.5780, 6.2869, 5.2321, 7.1810, 3.9982,\n",
       "         9.8267, 3.8337, 0.1712, 6.6464, 8.9381, 9.1265, 1.2073, 3.1212, 4.1239,\n",
       "         0.6482, 5.5375, 0.0342, 1.1334, 1.0065, 3.6841, 7.7030, 7.6808, 6.6419,\n",
       "         2.1757, 0.1315, 9.7567, 2.7206, 3.6043, 7.5194, 6.6697, 9.4235, 3.5787,\n",
       "         6.8226, 0.9032, 4.9865, 5.7590, 5.9017, 3.1019, 9.8465, 4.0839, 6.2209,\n",
       "         6.0796, 6.5602, 5.7957, 1.9346, 1.7866, 4.1032, 8.6993, 6.7585, 6.9852,\n",
       "         7.8750, 8.2709, 3.1541, 4.6458, 8.8468, 9.5413, 5.8462, 3.8243, 4.0787,\n",
       "         8.5742, 9.4845, 9.2844, 3.5649, 9.6391, 3.7408, 6.1613, 9.4635, 3.4568,\n",
       "         7.3517, 3.3406, 0.3577, 5.5032, 1.8895, 2.4809, 3.8850, 3.2105, 8.3045,\n",
       "         8.3181, 9.2083, 9.6793, 3.6928, 4.7439, 8.8832, 9.1746, 8.8285, 9.1060,\n",
       "         0.2267, 8.3576, 9.3733, 1.6034, 6.1702, 8.0834, 8.2924, 6.8843, 5.8121,\n",
       "         2.0563, 7.0915, 4.3282, 6.6743, 6.8823, 6.1687, 8.6339, 6.8800, 2.7670,\n",
       "         8.7712, 0.8330, 2.2812, 0.0296]))"
      ]
     },
     "execution_count": 14,
     "metadata": {},
     "output_type": "execute_result"
    }
   ],
   "source": [
    "myTrain.summary(dlTrain)"
   ]
  },
  {
   "cell_type": "code",
   "execution_count": 15,
   "metadata": {},
   "outputs": [
    {
     "name": "stdout",
     "output_type": "stream",
     "text": [
      "==========================================================================================\n",
      "numEpoch = 20 ; batchSize = 256\n",
      "Train: \n",
      "    dlTrain: iter tX shape   = torch.Size([256, 1, 500]) \n",
      "    dlTrain: tensor[0].shape = torch.Size([1000, 1, 500])\n",
      "    dlTrain: iter vY ; shape = torch.Size([256])\n",
      "    dlTrain: tensor[1].shape = torch.Size([1000])\n",
      "    dlTrain: len = 4\n",
      "+++ last layer size [256] == vY shape [256] ; PASS \n",
      "Val: \n",
      "    dlVal  : tensor[0].shape = torch.Size([100, 1, 500])\n",
      "    dlVal  : tensor[1].shape = torch.Size([100])\n",
      "==========================================================================================\n"
     ]
    }
   ],
   "source": [
    "myTrain.verify( dlTrain, dlVal, oOpt, nEpochs , batchSize , hL, hS, oSch = oSch)\n"
   ]
  },
  {
   "cell_type": "markdown",
   "metadata": {},
   "source": [
    "### train"
   ]
  },
  {
   "cell_type": "code",
   "execution_count": 16,
   "metadata": {},
   "outputs": [
    {
     "name": "stdout",
     "output_type": "stream",
     "text": [
      "Epoch    1 / 10 | Train Loss: 33.852 | Val Loss: 32.712 | Train Score: -3.119 | Val Score: -2.721 | Epoch Time:  1.68 |\n",
      "Epoch    2 / 10 | Train Loss: 33.327 | Val Loss: 31.830 | Train Score: -3.062 | Val Score: -2.620 | Epoch Time:  1.57 |\n",
      "Epoch    3 / 10 | Train Loss: 31.854 | Val Loss: 29.050 | Train Score: -2.875 | Val Score: -2.304 | Epoch Time:  1.42 |\n",
      "Epoch    4 / 10 | Train Loss: 26.243 | Val Loss: 16.542 | Train Score: -2.203 | Val Score: -0.881 | Epoch Time:  1.40 |\n",
      "Epoch    5 / 10 | Train Loss: 10.730 | Val Loss: 13.632 | Train Score: -0.310 | Val Score: -0.550 | Epoch Time:  1.41 |\n",
      "Epoch    6 / 10 | Train Loss:  7.098 | Val Loss:  5.281 | Train Score:  0.132 | Val Score:  0.399 | Epoch Time:  1.56 |\n",
      "Epoch    7 / 10 | Train Loss:  4.555 | Val Loss:  2.148 | Train Score:  0.447 | Val Score:  0.756 | Epoch Time:  1.58 |\n",
      "Epoch    8 / 10 | Train Loss:  1.847 | Val Loss:  1.709 | Train Score:  0.775 | Val Score:  0.806 | Epoch Time:  1.06 |\n",
      "Epoch    9 / 10 | Train Loss:  0.876 | Val Loss:  0.895 | Train Score:  0.893 | Val Score:  0.898 | Epoch Time:  1.40 |\n",
      "Epoch   10 / 10 | Train Loss:  0.619 | Val Loss:  0.402 | Train Score:  0.924 | Val Score:  0.954 | Epoch Time:  1.27 |\n"
     ]
    }
   ],
   "source": [
    "nEpochs = 10\n",
    "# myTrain = basicModel(CheckpointFile='BestModel.pt')\n",
    "trained = myTrain.TrainModel(dlTrain, dlVal, oOpt, nEpochs, hL, hS, oSch = oSch)"
   ]
  },
  {
   "cell_type": "markdown",
   "metadata": {},
   "source": [
    "### train graph"
   ]
  },
  {
   "cell_type": "code",
   "execution_count": 17,
   "metadata": {},
   "outputs": [
    {
     "data": {
      "image/png": "[encoded data removed]",
      "text/plain": [
       "<Figure size 1200x500 with 3 Axes>"
      ]
     },
     "metadata": {},
     "output_type": "display_data"
    }
   ],
   "source": [
    "myTrain.plotTrainResults()"
   ]
  },
  {
   "cell_type": "markdown",
   "metadata": {},
   "source": [
    "## Test after train"
   ]
  },
  {
   "cell_type": "code",
   "execution_count": 18,
   "metadata": {},
   "outputs": [
    {
     "name": "stdout",
     "output_type": "stream",
     "text": [
      "Test Loss: 0.45408278703689575\n"
     ]
    },
    {
     "data": {
      "text/plain": [
       "0.45408278703689575"
      ]
     },
     "execution_count": 18,
     "metadata": {},
     "output_type": "execute_result"
    }
   ],
   "source": [
    "myTrain.evaluate_test_data(testData = dlTest ,loss_fn=hL)"
   ]
  },
  {
   "cell_type": "markdown",
   "metadata": {},
   "source": [
    "## inference"
   ]
  },
  {
   "cell_type": "code",
   "execution_count": 19,
   "metadata": {},
   "outputs": [
    {
     "name": "stdout",
     "output_type": "stream",
     "text": [
      "test_x_data[1] = tensor([[ 0.4330,  0.7409,  0.9864,  0.8648,  0.9802,  1.0151,  0.9968,  0.6278,\n",
      "          0.5286, -0.0102, -0.0471, -0.2660, -0.6368, -0.6808, -1.0382, -0.9018,\n",
      "         -0.9641, -0.8658, -0.6911, -0.4572, -0.0642,  0.0533,  0.3766,  0.7291,\n",
      "          0.8222,  0.9452,  1.0186,  0.9629,  0.7092,  0.6923,  0.4476,  0.1281,\n",
      "         -0.0940, -0.5585, -0.6190, -0.8307, -0.8227, -0.9966, -1.0272, -0.9184,\n",
      "         -0.4482, -0.6749, -0.1138,  0.0891,  0.1612,  0.7073,  0.8699,  0.8968,\n",
      "          0.8628,  0.7877,  0.6681,  0.5789,  0.5575,  0.2654, -0.0808, -0.2733,\n",
      "         -0.6051, -0.8126, -0.8864, -0.9784, -1.0858, -0.7918, -0.7376, -0.3481,\n",
      "         -0.2633,  0.0252,  0.1941,  0.6670,  0.8539,  1.0558,  0.9254,  0.9715,\n",
      "          0.9654,  0.5713,  0.5892,  0.3235,  0.0392, -0.4046, -0.3504, -0.7864,\n",
      "         -0.7648, -1.0350, -1.0050, -0.9959, -0.9249, -0.4418, -0.4826, -0.0036,\n",
      "          0.1615,  0.5309,  0.7537,  0.9156,  0.9637,  0.9561,  0.9966,  0.6165,\n",
      "          0.6156,  0.3370,  0.0606, -0.2183, -0.4100, -0.6355, -0.8626, -0.9409,\n",
      "         -1.0007, -0.9278, -0.8214, -0.4035, -0.2492, -0.1210,  0.3517,  0.4742,\n",
      "          0.8021,  0.9719,  0.9471,  1.0883,  1.0290,  0.8346,  0.7500,  0.4109,\n",
      "          0.2389, -0.0811, -0.1671, -0.6979, -0.9579, -0.9801, -1.0457, -0.9804,\n",
      "         -0.9910, -0.6904, -0.5145, -0.2806,  0.0645,  0.2032,  0.5996,  0.8437,\n",
      "          1.0074,  1.0274,  0.8596,  0.8959,  0.8021,  0.3826,  0.1332, -0.1438,\n",
      "         -0.2969, -0.4285, -0.9457, -0.8600, -1.1103, -0.8459, -0.8823, -0.7628,\n",
      "         -0.2064, -0.1796,  0.0706,  0.3255,  0.3888,  0.8626,  0.9569,  0.9551,\n",
      "          1.1272,  0.7737,  0.7732,  0.3557,  0.2304,  0.0329, -0.2798, -0.5438,\n",
      "         -0.7928, -0.7838, -1.1479, -0.9434, -0.9182, -0.8268, -0.5516, -0.1522,\n",
      "          0.1342,  0.1356,  0.7645,  0.7689,  0.8615,  0.8183,  0.9248,  0.8561,\n",
      "          0.7410,  0.6263,  0.1918, -0.0329, -0.1750, -0.5247, -0.7413, -0.7624,\n",
      "         -0.8389, -1.1516, -1.1517, -0.8524, -0.5095, -0.4150, -0.0522,  0.2875,\n",
      "          0.5429,  0.6945,  0.9590,  0.8549,  0.9303,  0.9086,  0.7015,  0.4799,\n",
      "          0.4280,  0.1425, -0.1149, -0.5052, -0.7237, -1.0373, -1.0644, -0.8770,\n",
      "         -0.9422, -0.8421, -0.5464, -0.3477, -0.0380,  0.1415,  0.4411,  0.8791,\n",
      "          0.8820,  1.0901,  1.1167,  1.0936,  0.9349,  0.4808,  0.5967,  0.0506,\n",
      "         -0.3618, -0.4058, -0.7291, -0.7085, -0.9422, -1.2011, -1.0887, -0.8750,\n",
      "         -0.6934, -0.4045, -0.1606, -0.0666,  0.2688,  0.4893,  0.6594,  0.9021,\n",
      "          0.9984,  1.1578,  0.8040,  0.5913,  0.4912,  0.2020, -0.2910, -0.3466,\n",
      "         -0.4821, -0.8078, -0.9726, -0.9731, -0.8039, -0.9072, -0.6166, -0.3254,\n",
      "         -0.1484,  0.1027,  0.3013,  0.6991,  0.8248,  1.0148,  0.9528,  1.1042,\n",
      "          0.7882,  0.7372,  0.4383,  0.1456,  0.1992, -0.2170, -0.3700, -0.6839,\n",
      "         -0.9440, -0.9689, -0.9559, -0.8710, -0.6684, -0.5159, -0.1930, -0.0876,\n",
      "          0.2020,  0.7402,  0.7670,  0.8960,  0.8207,  1.0376,  1.1697,  0.7116,\n",
      "          0.5607,  0.3603, -0.0303, -0.2322, -0.5566, -0.7379, -0.8177, -1.1095,\n",
      "         -1.0870, -0.8186, -0.7669, -0.6393, -0.3717, -0.0375,  0.2809,  0.5299,\n",
      "          0.6295,  0.9545,  0.9608,  1.1032,  0.9721,  0.6884,  0.5437,  0.3055,\n",
      "          0.0198, -0.3094, -0.4589, -0.8970, -0.8639, -0.8986, -1.0091, -0.9607,\n",
      "         -0.8718, -0.7198, -0.3692, -0.0024,  0.1448,  0.6118,  0.8261,  0.9332,\n",
      "          1.0262,  0.9497,  0.9126,  0.8815,  0.7156,  0.3472, -0.1374, -0.1736,\n",
      "         -0.4542, -0.8050, -0.7643, -0.8714, -1.0556, -0.8981, -0.7338, -0.5993,\n",
      "         -0.6802, -0.2207,  0.2382,  0.3837,  0.6548,  0.8392,  0.8568,  0.9305,\n",
      "          0.8437,  0.8382,  0.6066,  0.5400,  0.0292, -0.3234, -0.4392, -0.7314,\n",
      "         -0.7354, -0.9939, -1.1028, -0.9886, -0.7987, -0.6048, -0.6455, -0.1320,\n",
      "          0.1344,  0.4305,  0.7456,  0.6283,  1.0235,  1.1240,  0.9356,  0.7555,\n",
      "          0.5680,  0.5097,  0.1205, -0.0497, -0.2679, -0.7719, -0.7493, -0.8387,\n",
      "         -1.0883, -0.9927, -0.9258, -0.7412, -0.3172, -0.1365,  0.0218,  0.3348,\n",
      "          0.7490,  0.6447,  0.9998,  0.9189,  1.1562,  0.8451,  0.5636,  0.4637,\n",
      "          0.3800,  0.0357, -0.4150, -0.5047, -0.8117, -0.9638, -0.9583, -0.8865,\n",
      "         -0.8751, -0.7213, -0.4966, -0.2498,  0.0545,  0.2326,  0.5459,  0.7654,\n",
      "          0.9325,  1.0235,  0.9596,  0.7869,  0.6763,  0.7071,  0.3440, -0.0656,\n",
      "         -0.1710, -0.5604, -0.7998, -0.7967, -1.0564, -1.0114, -0.9097, -0.6816,\n",
      "         -0.7247, -0.4062, -0.0634,  0.1915,  0.7260,  0.7586,  0.7150,  0.8825,\n",
      "          1.0499,  1.0032,  0.8945,  0.5055,  0.2603,  0.1897, -0.2107, -0.3416,\n",
      "         -0.7811, -0.9566, -0.9706, -0.7757, -1.1068, -0.7223, -0.5054, -0.4307,\n",
      "         -0.0561,  0.0091,  0.4198,  0.5387,  0.8575,  0.9511,  0.9318,  0.8610,\n",
      "          0.8357,  0.6942,  0.3834,  0.1757,  0.0289, -0.3003, -0.5196, -0.8070,\n",
      "         -0.7520, -0.7894, -1.0827, -0.6768, -0.7293, -0.6461, -0.2125,  0.0060,\n",
      "          0.3692,  0.4376,  0.8946,  0.8639,  0.8632,  1.1431,  0.7811,  0.7330,\n",
      "          0.4259,  0.2612, -0.0182, -0.3364]])\n",
      "eval_result[1] = 4.004354476928711\n"
     ]
    }
   ],
   "source": [
    "test_x_data = mXTest.view(numSignalsTest, 1, -1)\n",
    "eval_result = myTrain.inference(test_x_data)\n",
    "print(f\"test_x_data[1] = {test_x_data[1] }\")      \n",
    "print(f\"eval_result[1] = {eval_result[1] }\")      "
   ]
  }
 ],
 "metadata": {
  "kernelspec": {
   "display_name": "Python 3",
   "language": "python",
   "name": "python3"
  },
  "language_info": {
   "codemirror_mode": {
    "name": "ipython",
    "version": 3
   },
   "file_extension": ".py",
   "mimetype": "text/x-python",
   "name": "python",
   "nbconvert_exporter": "python",
   "pygments_lexer": "ipython3",
   "version": "3.11.8"
  }
 },
 "nbformat": 4,
 "nbformat_minor": 2
}
