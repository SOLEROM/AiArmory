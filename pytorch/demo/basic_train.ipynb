{
 "cells": [
  {
   "cell_type": "markdown",
   "metadata": {},
   "source": [
    "# TEMPLATE TRAIN\n",
    "\n"
   ]
  },
  {
   "cell_type": "markdown",
   "metadata": {},
   "source": [
    "## Globals Params"
   ]
  },
  {
   "cell_type": "code",
   "execution_count": null,
   "metadata": {},
   "outputs": [],
   "source": [
    "## run params\n",
    "batchSize   = 256\n",
    "numWork     = 2 #<! Number of workers\n",
    "nEpochs     = 2"
   ]
  },
  {
   "cell_type": "markdown",
   "metadata": {},
   "source": [
    "## import\n",
    "* use armo include for all general includes"
   ]
  },
  {
   "cell_type": "code",
   "execution_count": null,
   "metadata": {},
   "outputs": [],
   "source": [
    "import sys\n",
    "sys.path.append('../')\n",
    "from armoInclude import *"
   ]
  },
  {
   "cell_type": "code",
   "execution_count": null,
   "metadata": {},
   "outputs": [],
   "source": [
    "# Specific tasks:\n",
    "\n",
    "from armoTrain import basicModel"
   ]
  },
  {
   "cell_type": "markdown",
   "metadata": {},
   "source": [
    "## get the data"
   ]
  },
  {
   "cell_type": "code",
   "execution_count": null,
   "metadata": {},
   "outputs": [],
   "source": [
    "dsTrain, dsVal ,dsTest = ## get the data...."
   ]
  },
  {
   "cell_type": "markdown",
   "metadata": {},
   "source": [
    "#### split methods\n"
   ]
  },
  {
   "cell_type": "code",
   "execution_count": null,
   "metadata": {},
   "outputs": [],
   "source": [
    "mXTrain, mXTest, vYTrain, vYTest = train_test_split(mX, vY, train_size = trainRatio, test_size = testRatio, random_state = seedNum)\n",
    "\n",
    "# Split data to train and validation:\n",
    "oDataSet            = torch.utils.data.TensorDataset(mX, vF)\n",
    "dsTrain, dsVal  = torch.utils.data.random_split(dsData, [numSamplesTrain, numSamplesVal])\n"
   ]
  },
  {
   "cell_type": "markdown",
   "metadata": {},
   "source": [
    "## data process"
   ]
  },
  {
   "cell_type": "markdown",
   "metadata": {},
   "source": [
    "####  Standardization"
   ]
  },
  {
   "cell_type": "code",
   "execution_count": null,
   "metadata": {},
   "outputs": [],
   "source": [
    "# Calculate the Standardization Parameters\n",
    "vMean = np.mean(dsTrain.data / 255.0, axis = (0, 1, 2))\n",
    "vStd  = np.std(dsVal.data / 255.0, axis = (0, 1, 2))\n",
    "print('µ =', vMean)\n",
    "print('σ =', vStd)"
   ]
  },
  {
   "cell_type": "markdown",
   "metadata": {},
   "source": [
    "### Transforms"
   ]
  },
  {
   "cell_type": "code",
   "execution_count": null,
   "metadata": {},
   "outputs": [],
   "source": [
    "## V1\n",
    "oDataTrns = torchvision.transforms.Compose([ \n",
    "    torchvision.transforms.ToTensor(),        \n",
    "    torchvision.transforms.Normalize(µ, σ),  \n",
    "    ])\n",
    "# Update the DS transformer\n",
    "dsTrain.transform = oDataTrns\n",
    "dsVal.transform     = oDataTrns\n",
    "dsTest.transform  = oDataTrns\n",
    "\n",
    "## V2\n",
    "oDataTrns = TorchVisionTrns.Compose([\n",
    "    TorchVisionTrns.ToImage(),\n",
    "    TorchVisionTrns.ToDtype(torch.float32, scale = True),\n",
    "    TorchVisionTrns.Normalize(mean = vMean, std = vStd),\n",
    "])\n",
    "# Update the DS transformer\n",
    "dsTrain.transform   = oDataTrns\n",
    "dsVal.transform     = oDataTrns\n",
    "dsTest.transform     = oDataTrns"
   ]
  },
  {
   "cell_type": "markdown",
   "metadata": {},
   "source": [
    "### data loaders"
   ]
  },
  {
   "cell_type": "code",
   "execution_count": null,
   "metadata": {},
   "outputs": [],
   "source": [
    "dlTrain = torch.utils.data.DataLoader(dsTrain, shuffle = True, batch_size = 1 * batchSize, num_workers = numWork, persistent_workers = True)\n",
    "dlVal   = torch.utils.data.DataLoader(dsVal, shuffle = False, batch_size = 2 * batchSize, num_workers = numWork, persistent_workers = True)\n",
    "dlTest   = torch.utils.data.DataLoader(dsTest, shuffle = False, batch_size = 2 * batchSize, num_workers = numWork, persistent_workers = True)"
   ]
  },
  {
   "cell_type": "code",
   "execution_count": null,
   "metadata": {},
   "outputs": [],
   "source": [
    "# Iterate on the Loader\n",
    "tX, vY = next(iter(dlTrain)) #<! PyTorch Tensors\n",
    "print(f'The batch features dimensions: {tX.shape}')\n",
    "print(f'The batch labels dimensions: {vY.shape}')"
   ]
  },
  {
   "cell_type": "markdown",
   "metadata": {},
   "source": [
    "## layers"
   ]
  },
  {
   "cell_type": "code",
   "execution_count": null,
   "metadata": {},
   "outputs": [],
   "source": [
    "class CustomLAYER():\n",
    "    def __init__( self ) -> None:\n",
    "        self.mX = None #<! Required for the backward pass\n",
    "        self.dGrads = {}\n",
    "    \n",
    "    def Forward( self: Self, mX: np.ndarray ) -> np.ndarray:\n",
    "        self.mX = mX                 #<! Store for Backward\n",
    "        mZ      = ????\n",
    "        return mZ\n",
    "    \n",
    "    def Backward( self: Self, mDz: np.ndarray ) -> np.ndarray:\n",
    "        mX    = self.mX\n",
    "        mDx = ????\n",
    "        return mDx"
   ]
  },
  {
   "cell_type": "code",
   "execution_count": null,
   "metadata": {},
   "outputs": [],
   "source": [
    "class CustomBlock( nn.Module ):\n",
    "    def __init__( self, numChnl: int ) -> None:\n",
    "        super(CustomBlock, self).__init__()\n",
    "        \n",
    "        self.oConv2D1       = nn.Conv2d(...\n",
    "        self.oBatchNorm1    = nn.BatchNorm2d(...\n",
    "        self.oReLU1         = nn.ReLU(...\n",
    "        self.CustomLAYER    = CustomLAYER(...\n",
    "            \n",
    "    def forward( self: Self, tX: torch.Tensor ) -> torch.Tensor:\n",
    "        \n",
    "        tY = ...\n",
    "        tY += ...\n",
    "\t\t\n",
    "        return tY"
   ]
  },
  {
   "cell_type": "code",
   "execution_count": null,
   "metadata": {},
   "outputs": [],
   "source": [
    "def BuildModel( nC: int ) -> nn.Module:\n",
    "    \n",
    "    oModel = nn.Sequential(\n",
    "\n",
    "        nn.Identity(),\n",
    "\n",
    "        nn.Conv2d(...\n",
    "        \n",
    "        CustomBlock(...\n",
    "        \n",
    "    )\n",
    "\n",
    "    return oModel"
   ]
  },
  {
   "cell_type": "code",
   "execution_count": null,
   "metadata": {},
   "outputs": [],
   "source": [
    "oModel = BuildModel(len(L_CLASSES))"
   ]
  },
  {
   "cell_type": "markdown",
   "metadata": {},
   "source": [
    "## model"
   ]
  },
  {
   "cell_type": "code",
   "execution_count": null,
   "metadata": {},
   "outputs": [],
   "source": [
    "myTrain = basicModel(model=oModel, debug=True)\n"
   ]
  },
  {
   "cell_type": "markdown",
   "metadata": {},
   "source": [
    "#### target HW"
   ]
  },
  {
   "cell_type": "code",
   "execution_count": null,
   "metadata": {},
   "outputs": [],
   "source": [
    "runDevice = torch.device('cuda:0' if torch.cuda.is_available() else 'cpu') #<! The 1st CUDA device\n",
    "oModel = oModel.to(runDevice)"
   ]
  },
  {
   "cell_type": "markdown",
   "metadata": {},
   "source": [
    "### loss"
   ]
  },
  {
   "cell_type": "code",
   "execution_count": null,
   "metadata": {},
   "outputs": [],
   "source": [
    "class ObjLocLoss( nn.Module ):\n",
    "    def __init__( self, numCls: int, λ: float, ϵ: float = 0.0 ) -> None:\n",
    "        super(ObjLocLoss, self).__init__()\n",
    "        self.numCls     = numCls\n",
    "    \n",
    "    def forward( self: Self, mYHat: torch.Tensor, mY: torch.Tensor ) -> torch.Tensor:\n",
    "        ## \n",
    "        return lossVal\n",
    "\n",
    "hL = ObjLocLoss(numCls = len(L_CLASSES), λ = λ, ϵ = ϵ)\n",
    "hL = hL.to(runDevice)\n"
   ]
  },
  {
   "cell_type": "markdown",
   "metadata": {},
   "source": [
    "### score"
   ]
  },
  {
   "cell_type": "code",
   "execution_count": null,
   "metadata": {},
   "outputs": [],
   "source": [
    "class ObjLocScore( nn.Module ):\n",
    "    def __init__( self, numCls: int ) -> None:\n",
    "        super(ObjLocScore, self).__init__()\n",
    "        self.numCls = numCls\n",
    "    \n",
    "    def forward( self: Self, mYHat: torch.Tensor, mY: torch.Tensor ) -> Tuple[float, float, float]:\n",
    "        batchSize = mYHat.shape[0]\n",
    "        ## \n",
    "        return valScore\n",
    "\n",
    "hS = ObjLocScore(numCls = len(L_CLASSES))\n",
    "hS = hS.to(runDevice)\n"
   ]
  },
  {
   "cell_type": "markdown",
   "metadata": {},
   "source": [
    "### optimizer"
   ]
  },
  {
   "cell_type": "code",
   "execution_count": null,
   "metadata": {},
   "outputs": [],
   "source": [
    "oOpt = torch.optim.AdamW(oModel.parameters(), lr = 1e-5, betas = (0.9, 0.99), weight_decay = 1e-5) "
   ]
  },
  {
   "cell_type": "markdown",
   "metadata": {},
   "source": [
    "### scheduler"
   ]
  },
  {
   "cell_type": "code",
   "execution_count": null,
   "metadata": {},
   "outputs": [],
   "source": [
    "oSch = torch.optim.lr_scheduler.OneCycleLR(oOpt, max_lr = 5e-4, total_steps = numEpochs)\n"
   ]
  },
  {
   "cell_type": "markdown",
   "metadata": {},
   "source": [
    "### summary"
   ]
  },
  {
   "cell_type": "code",
   "execution_count": null,
   "metadata": {},
   "outputs": [],
   "source": [
    "myTrain.summary(dlTrain)"
   ]
  },
  {
   "cell_type": "markdown",
   "metadata": {},
   "source": [
    "### verify"
   ]
  },
  {
   "cell_type": "code",
   "execution_count": null,
   "metadata": {},
   "outputs": [],
   "source": [
    "myTrain.verify( dlTrain, dlVal, oOpt, nEpochs , batchSize , hL, hS, oSch = oSch)\n"
   ]
  },
  {
   "cell_type": "markdown",
   "metadata": {},
   "source": [
    "### train"
   ]
  },
  {
   "cell_type": "code",
   "execution_count": null,
   "metadata": {},
   "outputs": [],
   "source": [
    "trained = myTrain.TrainModel(dlTrain, dlVal, oOpt, nEpochs, hL, hS, oSch = oSch)"
   ]
  },
  {
   "cell_type": "markdown",
   "metadata": {},
   "source": [
    "## EVAL"
   ]
  },
  {
   "cell_type": "markdown",
   "metadata": {},
   "source": [
    "### plot results"
   ]
  },
  {
   "cell_type": "code",
   "execution_count": null,
   "metadata": {},
   "outputs": [],
   "source": [
    "myTrain.plotTrainResults()"
   ]
  },
  {
   "cell_type": "markdown",
   "metadata": {},
   "source": [
    "### eval test data"
   ]
  },
  {
   "cell_type": "code",
   "execution_count": null,
   "metadata": {},
   "outputs": [],
   "source": [
    "myTrain.evaluate_test_data(testData = dlTest ,loss_fn=hL)"
   ]
  },
  {
   "cell_type": "markdown",
   "metadata": {},
   "source": [
    "### inference"
   ]
  },
  {
   "cell_type": "code",
   "execution_count": null,
   "metadata": {},
   "outputs": [],
   "source": [
    "test_x_data = mXTest.view(numSignalsTest, 1, -1)\n",
    "eval_result = myTrain.inference(test_x_data)\n",
    "print(f\"test_x_data[1] = {test_x_data[1] }\")      \n",
    "print(f\"eval_result[1] = {eval_result[1] }\")    "
   ]
  }
 ],
 "metadata": {
  "kernelspec": {
   "display_name": "Python 3",
   "language": "python",
   "name": "python3"
  },
  "language_info": {
   "codemirror_mode": {
    "name": "ipython",
    "version": 3
   },
   "file_extension": ".py",
   "mimetype": "text/x-python",
   "name": "python",
   "nbconvert_exporter": "python",
   "pygments_lexer": "ipython3",
   "version": "3.11.8"
  }
 },
 "nbformat": 4,
 "nbformat_minor": 2
}
